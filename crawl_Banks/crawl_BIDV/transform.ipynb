{
 "cells": [
  {
   "cell_type": "code",
   "execution_count": 1,
   "id": "2d28e8fc",
   "metadata": {},
   "outputs": [],
   "source": [
    "import pandas as pd\n",
    "import json"
   ]
  },
  {
   "cell_type": "code",
   "execution_count": 2,
   "id": "d86290cd",
   "metadata": {},
   "outputs": [
    {
     "name": "stdout",
     "output_type": "stream",
     "text": [
      "Đã lưu dữ liệu vào DATA/BIDV(PGD+ATM).csv\n"
     ]
    }
   ],
   "source": [
    "with open(\"DATA/data.json\", \"r\", encoding=\"utf-8\") as file:\n",
    "    json_data = json.load(file)\n",
    "results = []\n",
    "for item in json_data:\n",
    "    item_data = {\n",
    "        \"Name\": item.get(\"Name\"),\n",
    "        \"Address\": item.get(\"Addr\"),\n",
    "        \"BranchType\": item.get(\"BranchType\"),\n",
    "        \"LayerType\": item.get(\"LayerType\"),\n",
    "        \"WorkingTime\": item.get(\"WorkingTime\"),\n",
    "        \"Latitude\": item.get(\"Lat\"),\n",
    "        \"Longitude\" : item.get(\"Lon\"),\n",
    "        \"latitude\" : item.get(\"latitude\"),\n",
    "        \"longitude\" : item.get(\"longitude\")\n",
    "    }\n",
    "    results.append(item_data)\n",
    "\n",
    "# Tạo DataFrame từ results\n",
    "df = pd.DataFrame(results)\n",
    "\n",
    "# Lưu DataFrame vào file CSV\n",
    "output_file = \"DATA/BIDV(PGD+ATM).csv\"\n",
    "df.to_csv(output_file, index=False, encoding=\"utf-8-sig\")\n",
    "\n",
    "print(f\"Đã lưu dữ liệu vào {output_file}\")"
   ]
  }
 ],
 "metadata": {
  "kernelspec": {
   "display_name": "Python 3",
   "language": "python",
   "name": "python3"
  },
  "language_info": {
   "codemirror_mode": {
    "name": "ipython",
    "version": 3
   },
   "file_extension": ".py",
   "mimetype": "text/x-python",
   "name": "python",
   "nbconvert_exporter": "python",
   "pygments_lexer": "ipython3",
   "version": "3.12.4"
  }
 },
 "nbformat": 4,
 "nbformat_minor": 5
}
