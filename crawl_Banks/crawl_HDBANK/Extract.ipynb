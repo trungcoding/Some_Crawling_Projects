{
 "cells": [
  {
   "cell_type": "code",
   "execution_count": 2,
   "metadata": {},
   "outputs": [],
   "source": [
    "import openpyxl\n",
    "import csv\n",
    "import json\n",
    "import requests\n",
    "import re\n",
    "import pandas as pd\n",
    "import time\n",
    "from time import sleep\n",
    "import pyautogui as pag\n",
    "from bs4 import BeautifulSoup\n",
    "from selenium import webdriver\n",
    "import undetected_chromedriver as uc\n",
    "from selenium.webdriver import Edge\n",
    "from selenium.webdriver.common.by import By\n",
    "from selenium.webdriver.common.keys import Keys\n",
    "from selenium.webdriver.chrome.service import Service\n",
    "from selenium.common.exceptions import NoSuchElementException\n",
    "from selenium.common.exceptions import NoSuchAttributeException\n",
    "from selenium.webdriver.support.ui import Select"
   ]
  },
  {
   "cell_type": "code",
   "execution_count": 3,
   "metadata": {},
   "outputs": [],
   "source": [
    "options = uc.ChromeOptions()\n",
    "options.headless = False\n",
    "options.add_argument(\"--disable-blink-features=AutomationControlled\")\n",
    "driver = uc.Chrome(version_main=135)\n",
    "driver.get(\"https://hdbank.com.vn/vi/contact/chi-nhanh-va-atm\")"
   ]
  },
  {
   "cell_type": "code",
   "execution_count": 7,
   "metadata": {},
   "outputs": [
    {
     "name": "stdout",
     "output_type": "stream",
     "text": [
      "414\n"
     ]
    }
   ],
   "source": [
    "soup = BeautifulSoup(driver.page_source, 'html.parser')\n",
    "items = soup.find_all('li', class_='panel_list__item')\n",
    "print(len(items))"
   ]
  },
  {
   "cell_type": "code",
   "execution_count": 8,
   "metadata": {},
   "outputs": [],
   "source": [
    "results = []"
   ]
  },
  {
   "cell_type": "code",
   "execution_count": 9,
   "metadata": {},
   "outputs": [
    {
     "name": "stdout",
     "output_type": "stream",
     "text": [
      "Đã lưu dữ liệu vào VPBANK(ATM).csv\n"
     ]
    }
   ],
   "source": [
    "for item in items:\n",
    "    name = item.select_one('.panel_list__item-title p').text.strip()\n",
    "    a_tag = item.select_one('.clickDr')\n",
    "    lat = a_tag.get('lat')\n",
    "    lng = a_tag.get('lng')\n",
    "    address = item.select_one('.panel_list__item-desc p').text.strip()\n",
    "    # contact_p = item.select_one('.p-custom-opacity').text.strip()\n",
    "    # contact_p = contact_p.replace('\\xa0', ' ').replace('\\n', ' ').strip()\n",
    "    item_data = {\n",
    "        \"Name\": name,\n",
    "        \"Address\": address,\n",
    "        # \"Phone\": contact_p,\n",
    "        \"Latitude\": lat,\n",
    "        \"Longitude\": lng\n",
    "    }\n",
    "    results.append(item_data)\n",
    "df = pd.DataFrame(results)\n",
    "df.to_csv(\"HDBANK(ATM).csv\", index=False, encoding=\"utf-8-sig\")\n",
    "print(f\"Đã lưu dữ liệu vào VPBANK(ATM).csv\")"
   ]
  }
 ],
 "metadata": {
  "kernelspec": {
   "display_name": "Python 3",
   "language": "python",
   "name": "python3"
  },
  "language_info": {
   "codemirror_mode": {
    "name": "ipython",
    "version": 3
   },
   "file_extension": ".py",
   "mimetype": "text/x-python",
   "name": "python",
   "nbconvert_exporter": "python",
   "pygments_lexer": "ipython3",
   "version": "3.12.4"
  }
 },
 "nbformat": 4,
 "nbformat_minor": 2
}
