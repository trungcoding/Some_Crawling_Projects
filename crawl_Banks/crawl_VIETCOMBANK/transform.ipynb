{
 "cells": [
  {
   "cell_type": "code",
   "execution_count": 1,
   "id": "2d28e8fc",
   "metadata": {},
   "outputs": [],
   "source": [
    "import pandas as pd\n",
    "import json"
   ]
  },
  {
   "cell_type": "code",
   "execution_count": 5,
   "id": "d86290cd",
   "metadata": {},
   "outputs": [
    {
     "name": "stdout",
     "output_type": "stream",
     "text": [
      "Đã lưu dữ liệu vào DATA/SJC.csv\n"
     ]
    }
   ],
   "source": [
    "with open(\"DATA/SJC.json\", \"r\", encoding=\"utf-8\") as file:\n",
    "    json_data = json.load(file)\n",
    "results = []\n",
    "for item in json_data:\n",
    "    chip = item.get(\"Chip\")\n",
    "    province_code = item.get(\"ProvinceCode\")\n",
    "    filter_results = item.get(\"data\", {}).get(\"filterResults\", [])\n",
    "    \n",
    "    # Duyệt qua từng districtGroup trong filterResults\n",
    "    for district in filter_results:\n",
    "        district_group = district.get(\"districtGroup\")\n",
    "        branches = district.get(\"branches\", [])\n",
    "        \n",
    "        # Duyệt qua từng branch trong branches\n",
    "        for branch in branches:\n",
    "            branch_data = {\n",
    "                \"title\": branch.get(\"title\"),\n",
    "                \"branch_name\": branch.get(\"branch_name\"),\n",
    "                \"chip_type\": branch.get(\"chip_type\"),\n",
    "                \"phone\": branch.get(\"phone\"),\n",
    "                \"leader\": branch.get(\"leader\"),\n",
    "                \"services_hour\": branch.get(\"services_hour\"),\n",
    "                \"districtGroup\": district_group,\n",
    "                \"address\" : branch.get(\"address\"),\n",
    "                \"latitude\" : branch.get(\"latitude\"),\n",
    "                \"longitude\" : branch.get(\"longitude\")\n",
    "            }\n",
    "            results.append(branch_data)\n",
    "\n",
    "# Tạo DataFrame từ results\n",
    "df = pd.DataFrame(results)\n",
    "\n",
    "# Lưu DataFrame vào file CSV\n",
    "output_file = \"DATA/SJC.csv\"\n",
    "df.to_csv(output_file, index=False, encoding=\"utf-8-sig\")\n",
    "\n",
    "print(f\"Đã lưu dữ liệu vào {output_file}\")"
   ]
  }
 ],
 "metadata": {
  "kernelspec": {
   "display_name": "Python 3",
   "language": "python",
   "name": "python3"
  },
  "language_info": {
   "codemirror_mode": {
    "name": "ipython",
    "version": 3
   },
   "file_extension": ".py",
   "mimetype": "text/x-python",
   "name": "python",
   "nbconvert_exporter": "python",
   "pygments_lexer": "ipython3",
   "version": "3.12.4"
  }
 },
 "nbformat": 4,
 "nbformat_minor": 5
}
