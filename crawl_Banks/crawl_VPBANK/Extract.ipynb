{
 "cells": [
  {
   "cell_type": "code",
   "execution_count": 1,
   "metadata": {},
   "outputs": [],
   "source": [
    "import openpyxl\n",
    "import csv\n",
    "import json\n",
    "import requests\n",
    "import re\n",
    "import pandas as pd\n",
    "import time\n",
    "from time import sleep\n",
    "import pyautogui as pag\n",
    "from bs4 import BeautifulSoup\n",
    "from selenium import webdriver\n",
    "import undetected_chromedriver as uc\n",
    "from selenium.webdriver import Edge\n",
    "from selenium.webdriver.common.by import By\n",
    "from selenium.webdriver.common.keys import Keys\n",
    "from selenium.webdriver.chrome.service import Service\n",
    "from selenium.common.exceptions import NoSuchElementException\n",
    "from selenium.common.exceptions import NoSuchAttributeException"
   ]
  },
  {
   "cell_type": "code",
   "execution_count": 2,
   "metadata": {},
   "outputs": [],
   "source": [
    "options = uc.ChromeOptions()\n",
    "options.headless = False\n",
    "options.add_argument(\"--disable-blink-features=AutomationControlled\")\n",
    "driver = uc.Chrome(version_main=135)\n",
    "driver.get(\"https://www.vpbank.com.vn/chi-nhanh-va-atm\")"
   ]
  },
  {
   "cell_type": "code",
   "execution_count": 6,
   "metadata": {},
   "outputs": [
    {
     "name": "stdout",
     "output_type": "stream",
     "text": [
      "1452\n"
     ]
    }
   ],
   "source": [
    "page_source = BeautifulSoup(driver.page_source, 'html.parser')\n",
    "results = []\n",
    "items_li = page_source.find(\"ul\", class_=\"branch-atm-response\")\n",
    "items = items_li.find_all(\"li\", class_=\"branch-atm-response__item\")\n",
    "print(len(items))"
   ]
  },
  {
   "cell_type": "code",
   "execution_count": 7,
   "metadata": {},
   "outputs": [
    {
     "name": "stdout",
     "output_type": "stream",
     "text": [
      "Đã lưu dữ liệu vào VPBANK(CN+ATM).csv\n"
     ]
    }
   ],
   "source": [
    "for item in items:\n",
    "    # Trích xuất name\n",
    "    name = item.find(\"h3\", class_=\"name\")\n",
    "    name_value = name.text.strip() if name else None\n",
    "    tag_div = item.find(\"div\", class_=\"vpb-tag\")\n",
    "    tag_value = None\n",
    "    if tag_div:\n",
    "        for span in tag_div.find_all(\"span\"):\n",
    "            if span.get(\"style\") == \"display : initial\":\n",
    "                tag_value = span.text.strip()\n",
    "                break\n",
    "    address = item.find(\"p\", class_=\"address\")\n",
    "    address_value = address.text.strip() if address else None\n",
    "    phone = item.find(\"p\", class_=\"phone\")\n",
    "    phone_value = phone.find(\"a\").text.strip() if phone and phone.find(\"a\") else None\n",
    "    latitude = item.get(\"data-lat\")\n",
    "    longitude = item.get(\"data-lng\")\n",
    "\n",
    "    item_data = {\n",
    "        \"Name\": name_value,\n",
    "        \"Tag\": tag_value,\n",
    "        \"Address\": address_value,\n",
    "        \"Phone\": phone_value,\n",
    "        \"Latitude\": latitude,\n",
    "        \"Longitude\": longitude\n",
    "    }\n",
    "    results.append(item_data)\n",
    "\n",
    "df = pd.DataFrame(results)\n",
    "output_file = \"VPBANK(CN+ATM).csv\"\n",
    "df.to_csv(output_file, index=False, encoding=\"utf-8-sig\")\n",
    "print(f\"Đã lưu dữ liệu vào {output_file}\")"
   ]
  }
 ],
 "metadata": {
  "kernelspec": {
   "display_name": "Python 3",
   "language": "python",
   "name": "python3"
  },
  "language_info": {
   "codemirror_mode": {
    "name": "ipython",
    "version": 3
   },
   "file_extension": ".py",
   "mimetype": "text/x-python",
   "name": "python",
   "nbconvert_exporter": "python",
   "pygments_lexer": "ipython3",
   "version": "3.12.4"
  }
 },
 "nbformat": 4,
 "nbformat_minor": 2
}
