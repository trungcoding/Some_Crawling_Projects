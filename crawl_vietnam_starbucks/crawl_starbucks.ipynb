{
 "cells": [
  {
   "cell_type": "code",
   "execution_count": 16,
   "id": "cbcdabf0",
   "metadata": {},
   "outputs": [],
   "source": [
    "from bs4 import BeautifulSoup\n",
    "import undetected_chromedriver as uc\n",
    "import json\n",
    "import csv"
   ]
  },
  {
   "cell_type": "code",
   "execution_count": 17,
   "id": "808b130f",
   "metadata": {},
   "outputs": [],
   "source": [
    "options = uc.ChromeOptions()\n",
    "options.headless = False  # Hiển thị trình duyệt (False) để debug dễ hơn\n",
    "options.add_argument(\"--disable-blink-features=AutomationControlled\")\n",
    "driver = uc.Chrome(version_main=134)\n",
    "driver.get(\"https://www.starbucks.vn/store-locator\")"
   ]
  },
  {
   "cell_type": "code",
   "execution_count": 18,
   "id": "a685ade4",
   "metadata": {},
   "outputs": [
    {
     "name": "stdout",
     "output_type": "stream",
     "text": [
      "⚠️ Lỗi khi xử lý thẻ svg: Expecting ',' delimiter: line 1 column 401 (char 400)\n",
      "✅ Đã ghi xong vào file location_info.csv\n"
     ]
    }
   ],
   "source": [
    "soup = BeautifulSoup(driver.page_source)\n",
    "results = []\n",
    "\n",
    "for svg in soup.find_all(\"svg\", class_=\"location-info\"):\n",
    "    try:\n",
    "        data_attr = svg.get(\"data\")\n",
    "        if not data_attr:\n",
    "            continue\n",
    "        data = json.loads(data_attr)\n",
    "\n",
    "        # Tách nested keys và chỉ giữ field mong muốn\n",
    "        info = {\n",
    "            \"name\": data.get(\"name\"),\n",
    "            \"address\": data.get(\"address\"),\n",
    "            \"tel\": data.get(\"tel\"),\n",
    "            \"lat\": data.get(\"location\", {}).get(\"lat\"),\n",
    "            \"lng\": data.get(\"location\", {}).get(\"lng\"),\n",
    "            \"mon\": data.get(\"openHour\", {}).get(\"mon\"),\n",
    "            \"tue\": data.get(\"openHour\", {}).get(\"tue\"),\n",
    "            \"wed\": data.get(\"openHour\", {}).get(\"wed\"),\n",
    "            \"thu\": data.get(\"openHour\", {}).get(\"thu\"),\n",
    "            \"fri\": data.get(\"openHour\", {}).get(\"fri\"),\n",
    "            \"sat\": data.get(\"openHour\", {}).get(\"sat\"),\n",
    "            \"sun\": data.get(\"openHour\", {}).get(\"sun\"),\n",
    "            \"services\": \", \".join(data.get(\"services\", []))\n",
    "        }\n",
    "\n",
    "        results.append(info)\n",
    "    except Exception as e:\n",
    "        print(f\"⚠️ Lỗi khi xử lý thẻ svg: {e}\")\n",
    "\n",
    "# Xác định đúng fieldnames (chính là keys bạn extract ở trên)\n",
    "fieldnames = [\n",
    "    \"name\", \"address\", \"tel\", \"lat\", \"lng\",\n",
    "    \"mon\", \"tue\", \"wed\", \"thu\", \"fri\", \"sat\", \"sun\", \"services\"\n",
    "]\n",
    "\n",
    "# Ghi ra file CSV\n",
    "with open(\"location_info.csv\", \"w\", encoding=\"utf-8\", newline=\"\") as f:\n",
    "    writer = csv.DictWriter(f, fieldnames=fieldnames)\n",
    "    writer.writeheader()\n",
    "    writer.writerows(results)\n",
    "\n",
    "print(\"✅ Đã ghi xong vào file location_info.csv\")"
   ]
  }
 ],
 "metadata": {
  "kernelspec": {
   "display_name": "Python 3",
   "language": "python",
   "name": "python3"
  },
  "language_info": {
   "codemirror_mode": {
    "name": "ipython",
    "version": 3
   },
   "file_extension": ".py",
   "mimetype": "text/x-python",
   "name": "python",
   "nbconvert_exporter": "python",
   "pygments_lexer": "ipython3",
   "version": "3.12.4"
  }
 },
 "nbformat": 4,
 "nbformat_minor": 5
}
